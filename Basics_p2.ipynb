{
 "cells": [
  {
   "cell_type": "markdown",
   "metadata": {},
   "source": [
    "# Exploring US Births (1994-2003)\n",
    "\n",
    "This data reads in data on daily births in the United States.  It processes it and then continues to look at additional statistics on birth rates by month, year etc."
   ]
  },
  {
   "cell_type": "code",
   "execution_count": 4,
   "metadata": {
    "collapsed": false
   },
   "outputs": [
    {
     "name": "stdout",
     "output_type": "stream",
     "text": [
      "['year,month,date_of_month,day_of_week,births', '1994,1,1,6,8096', '1994,1,2,7,7772', '1994,1,3,1,10142', '1994,1,4,2,11248', '1994,1,5,3,11053', '1994,1,6,4,11406', '1994,1,7,5,11251', '1994,1,8,6,8653', '1994,1,9,7,7910']\n"
     ]
    }
   ],
   "source": [
    "f = open(\"US_births_1994-2003_CDC_NCHS.csv\",\"r\")\n",
    "f1 = f.read()\n",
    "f2 = f1.split(\"\\n\")\n",
    "print(f2[0:10])"
   ]
  },
  {
   "cell_type": "code",
   "execution_count": 5,
   "metadata": {
    "collapsed": false
   },
   "outputs": [
    {
     "name": "stdout",
     "output_type": "stream",
     "text": [
      "[[1994, 1, 1, 6, 8096], [1994, 1, 2, 7, 7772], [1994, 1, 3, 1, 10142], [1994, 1, 4, 2, 11248], [1994, 1, 5, 3, 11053], [1994, 1, 6, 4, 11406], [1994, 1, 7, 5, 11251], [1994, 1, 8, 6, 8653], [1994, 1, 9, 7, 7910], [1994, 1, 10, 1, 10498]]\n"
     ]
    }
   ],
   "source": [
    "def read_csv(file_string):\n",
    "    f = open(file_string)\n",
    "    f1 = f.read()\n",
    "    string_list = f1.split(\"\\n\")\n",
    "    new_string_list = string_list[1:len(string_list)]\n",
    "    final_list = []\n",
    "    for s in new_string_list:\n",
    "        int_fields = []\n",
    "        string_fields = s.split(\",\")\n",
    "        for s2 in string_fields:\n",
    "            int_fields.append(int(s2))\n",
    "        final_list.append(int_fields)\n",
    "    return(final_list)\n",
    "cdc_list = read_csv(\"US_births_1994-2003_CDC_NCHS.csv\")\n",
    "print(cdc_list[0:10])"
   ]
  },
  {
   "cell_type": "code",
   "execution_count": 6,
   "metadata": {
    "collapsed": false
   },
   "outputs": [
    {
     "name": "stdout",
     "output_type": "stream",
     "text": [
      "{1: 3232517, 2: 3018140, 3: 3322069, 4: 3185314, 5: 3350907, 6: 3296530, 7: 3498783, 8: 3525858, 9: 3439698, 10: 3378814, 11: 3171647, 12: 3301860}\n"
     ]
    }
   ],
   "source": [
    "def month_births(text_list):\n",
    "    births_per_month = {}\n",
    "    for t in text_list:\n",
    "        month = t[1]\n",
    "        births = t[4]\n",
    "        if month in births_per_month:\n",
    "            births_per_month[month] = births_per_month[month] + births\n",
    "        else:\n",
    "            births_per_month[month] = births\n",
    "    return(births_per_month)\n",
    "\n",
    "cdc_month_births = month_births(cdc_list)\n",
    "print(cdc_month_births)"
   ]
  },
  {
   "cell_type": "code",
   "execution_count": 8,
   "metadata": {
    "collapsed": false
   },
   "outputs": [
    {
     "data": {
      "image/png": "[encoded data removed]",
      "text/plain": [
       "<matplotlib.figure.Figure at 0x1698e9e0b70>"
      ]
     },
     "metadata": {},
     "output_type": "display_data"
    }
   ],
   "source": [
    "%matplotlib inline\n",
    "\n",
    "import matplotlib.pyplot as plt\n",
    "import numpy as np\n",
    "month_names = [\"January\", \"February\", \"March\", \"April\", \"May\", \"June\", \"July\", \"August\", \"September\", \"October\", \"November\", \"December\"]\n",
    "month_births = []\n",
    "for i, val in cdc_month_births.items():\n",
    "    month_births.append(val)\n",
    "\n",
    "y_pos = np.arange(len(month_births))\n",
    "plt.bar(y_pos, month_births, color=\"blue\")\n",
    "plt.xticks(y_pos, month_names, rotation=45)\n",
    "plt.ylabel(\"Total Births\")\n",
    "plt.title(\"Total Births by Month (1994-2003)\")\n",
    "plt.show()"
   ]
  },
  {
   "cell_type": "markdown",
   "metadata": {},
   "source": [
    "It appears that the highest birth months are during the summer months of July and August.  As the average pregnancy time is around 9 months this suggest that more babies get conceived during the September-October period."
   ]
  },
  {
   "cell_type": "code",
   "execution_count": 6,
   "metadata": {
    "collapsed": false
   },
   "outputs": [
    {
     "name": "stdout",
     "output_type": "stream",
     "text": [
      "{1: 5789166, 2: 6446196, 3: 6322855, 4: 6288429, 5: 6233657, 6: 4562111, 7: 4079723}\n"
     ]
    }
   ],
   "source": [
    "#This function generates total births by day of week\n",
    "\n",
    "def dow_births(text_list):\n",
    "    births_per_day = {}\n",
    "    for t in text_list:\n",
    "        day = t[3]\n",
    "        births = t[4]\n",
    "        if day in births_per_day:\n",
    "            births_per_day[day] = births_per_day[day] + births\n",
    "        else:\n",
    "            births_per_day[day] = births\n",
    "    return(births_per_day)\n",
    "\n",
    "cdc_day_births = dow_births(cdc_list)\n",
    "print(cdc_day_births)"
   ]
  },
  {
   "cell_type": "code",
   "execution_count": 10,
   "metadata": {
    "collapsed": false
   },
   "outputs": [
    {
     "name": "stdout",
     "output_type": "stream",
     "text": [
      "{1994: 3952767, 1995: 3899589, 1996: 3891494, 1997: 3880894, 1998: 3941553, 1999: 3959417, 2000: 4058814, 2001: 4025933, 2002: 4021726, 2003: 4089950}\n",
      "{1: 3232517, 2: 3018140, 3: 3322069, 4: 3185314, 5: 3350907, 6: 3296530, 7: 3498783, 8: 3525858, 9: 3439698, 10: 3378814, 11: 3171647, 12: 3301860}\n",
      "{1: 1276557, 2: 1288739, 3: 1304499, 4: 1288154, 5: 1299953, 6: 1304474, 7: 1310459, 8: 1312297, 9: 1303292, 10: 1320764, 11: 1314361, 12: 1318437, 13: 1277684, 14: 1320153, 15: 1319171, 16: 1315192, 17: 1324953, 18: 1326855, 19: 1318727, 20: 1324821, 21: 1322897, 22: 1317381, 23: 1293290, 24: 1288083, 25: 1272116, 26: 1284796, 27: 1294395, 28: 1307685, 29: 1223161, 30: 1202095, 31: 746696}\n",
      "{6: 4562111, 7: 4079723, 1: 5789166, 2: 6446196, 3: 6322855, 4: 6288429, 5: 6233657}\n"
     ]
    }
   ],
   "source": [
    "#This function generalizes the previous functions so that it simply can calculate the total counts \n",
    "#by simply sending in the column that we want to compute the statistic on\n",
    "def calc_counts(text_list, column):\n",
    "    counts_column = {}\n",
    "    for t in text_list:\n",
    "        col = t[column]\n",
    "        births = t[4]\n",
    "        if col in counts_column:\n",
    "            counts_column[col] = counts_column[col] + births\n",
    "        else:\n",
    "            counts_column[col] = births\n",
    "    return(counts_column)\n",
    "\n",
    "cdc_year_births = calc_counts(cdc_list,0)\n",
    "print(cdc_year_births)\n",
    "\n",
    "cdc_month_births = calc_counts(cdc_list,1)\n",
    "print(cdc_month_births)\n",
    "\n",
    "cdc_dom_births = calc_counts(cdc_list,2)\n",
    "print(cdc_dom_births)\n",
    "\n",
    "cdc_dow_births = calc_counts(cdc_list,3)\n",
    "print(cdc_dow_births)"
   ]
  },
  {
   "cell_type": "code",
   "execution_count": 15,
   "metadata": {
    "collapsed": false
   },
   "outputs": [
    {
     "data": {
      "image/png": "[encoded data removed]",
      "text/plain": [
       "<matplotlib.figure.Figure at 0x1698ea06be0>"
      ]
     },
     "metadata": {},
     "output_type": "display_data"
    }
   ],
   "source": [
    "plt.bar(range(len(cdc_year_births)), cdc_year_births.values(), align='center')\n",
    "plt.xticks(range(len(cdc_year_births)), cdc_year_births.keys())\n",
    "plt.ylim((3500000,4200000))\n",
    "plt.ylabel(\"Total Births\")\n",
    "plt.title(\"Total Births by Year (1994-2003)\")\n",
    "plt.show()"
   ]
  },
  {
   "cell_type": "markdown",
   "metadata": {},
   "source": [
    "There is no constant trend in the births over the years.  However, both 2001 and 2003 respectively were high points in the number of births.  1994 was also higher than the subsequent 5 years."
   ]
  },
  {
   "cell_type": "code",
   "execution_count": 17,
   "metadata": {
    "collapsed": false,
    "scrolled": false
   },
   "outputs": [
    {
     "name": "stdout",
     "output_type": "stream",
     "text": [
      "[[1997, 3880894], [2003, 4089950]]\n",
      "[[2, 3018140], [8, 3525858]]\n",
      "[1994, 2003]\n"
     ]
    }
   ],
   "source": [
    "#Calculates the min and max values for any dictionary that is given\n",
    "#with the associated key\n",
    "\n",
    "def min_max(dict_text):\n",
    "    minval = min(dict_text)\n",
    "    maxval = max(dict_text)\n",
    "    min_max_val = [minval,maxval]\n",
    "    return(min_max_val)\n",
    "    \n",
    "def min_max_key(dict_text):\n",
    "    minkey = min(dict_text, key=dict_text.get)\n",
    "    maxkey = max(dict_text, key=dict_text.get)\n",
    "    minnum = dict_text[minkey]\n",
    "    maxnum = dict_text[maxkey]\n",
    "    min_max_num = []\n",
    "    min_max_num.append([minkey,minnum])\n",
    "    min_max_num.append([maxkey,maxnum])\n",
    "    return(min_max_num)\n",
    "\n",
    "min_max_year = min_max_key(cdc_year_births)\n",
    "min_max_month = min_max_key(cdc_month_births)\n",
    "print(min_max_year)\n",
    "print(min_max_month)\n",
    "\n",
    "min_max_yr = min_max(cdc_year_births)\n",
    "print(min_max_yr)"
   ]
  },
  {
   "cell_type": "code",
   "execution_count": 18,
   "metadata": {
    "collapsed": false
   },
   "outputs": [
    {
     "name": "stdout",
     "output_type": "stream",
     "text": [
      "{(1994, 6): 8809, (1994, 7): 7192, (1994, 1): 8454, (1994, 2): 11131, (1994, 3): 12398, (1994, 4): 12189, (1994, 5): 12051, (1995, 7): 7596, (1995, 1): 7027, (1995, 2): 9447, (1995, 3): 11897, (1995, 4): 12530, (1995, 5): 12207, (1995, 6): 9093, (1996, 1): 11911, (1996, 2): 11924, (1996, 3): 7092, (1996, 4): 10321, (1996, 5): 12260, (1996, 6): 9103, (1996, 7): 8193, (1997, 3): 11818, (1997, 4): 7055, (1997, 5): 10075, (1997, 6): 8679, (1997, 7): 7864, (1997, 1): 12206, (1997, 2): 13521, (1998, 4): 11389, (1998, 5): 7020, (1998, 6): 7735, (1998, 7): 7829, (1998, 1): 11980, (1998, 2): 13637, (1998, 3): 13297, (1999, 5): 9335, (1999, 6): 6674, (1999, 7): 7432, (1999, 1): 11579, (1999, 2): 13158, (1999, 3): 12629, (1999, 4): 11935, (2000, 6): 9177, (2000, 7): 7721, (2000, 1): 6566, (2000, 2): 10070, (2000, 3): 12858, (2000, 4): 13532, (2000, 5): 13234, (2001, 1): 10018, (2001, 2): 6443, (2001, 3): 10735, (2001, 4): 13762, (2001, 5): 13918, (2001, 6): 9365, (2001, 7): 7679, (2002, 2): 12339, (2002, 3): 6629, (2002, 4): 10903, (2002, 5): 13332, (2002, 6): 8953, (2002, 7): 7892, (2002, 1): 12906, (2003, 3): 12374, (2003, 4): 6628, (2003, 5): 10218, (2003, 6): 8646, (2003, 7): 7645, (2003, 1): 12823, (2003, 2): 14438}\n"
     ]
    }
   ],
   "source": [
    "#use function that calculates difference between consecutive values \n",
    "#to show if number of births is increasing or decrease.\n",
    "#e.g. calculating how the number of births on saturday change each\n",
    "#year between 1994 and 2003\n",
    "\n",
    "def calc_counts2(text_list, column1, column2):\n",
    "    counts_column = {}\n",
    "    for t in text_list:\n",
    "        col1 = t[column1]\n",
    "        col2 = t[column2]\n",
    "        births = t[4]\n",
    "        if col1 in counts_column and col2 in counts_column:\n",
    "            counts_column[col1,col2] = counts_column[col1,col2] + births\n",
    "        else:\n",
    "            counts_column[col1,col2] = births\n",
    "    return(counts_column)\n",
    "\n",
    "cdc_year_dow_births = calc_counts2(cdc_list, 0, 3)\n",
    "print(cdc_year_dow_births)\n"
   ]
  },
  {
   "cell_type": "code",
   "execution_count": 19,
   "metadata": {
    "collapsed": false
   },
   "outputs": [
    {
     "name": "stdout",
     "output_type": "stream",
     "text": [
      "1994\n",
      "1995\n",
      "1996\n",
      "1997\n",
      "1998\n",
      "1999\n",
      "2000\n",
      "2001\n",
      "2002\n",
      "{1995: 156, 1996: 53, 1997: -2185, 1998: -3055, 1999: 2315, 2000: 3899, 2001: 684, 2002: -586, 2003: -3114}\n"
     ]
    }
   ],
   "source": [
    "#dict_text takes a dictionary with two keys year and day and \n",
    "#calculates trend between the years\n",
    "def calc_trend(dict_text,minval,maxval,day):\n",
    "    trend = {}\n",
    "    for i in range(minval, maxval):\n",
    "        print(i)\n",
    "        trend[i+1] = dict_text[i+1, day] - dict_text[i, day]\n",
    "    return(trend)\n",
    "\n",
    "min_max_yr = min_max(cdc_year_births)\n",
    "minyr = min_max_yr[0]\n",
    "maxyr = min_max_yr[1]\n",
    "trendyrs = calc_trend(cdc_year_dow_births, minyr, maxyr, 5)\n",
    "print(trendyrs)"
   ]
  },
  {
   "cell_type": "code",
   "execution_count": 20,
   "metadata": {
    "collapsed": false
   },
   "outputs": [
    {
     "name": "stdout",
     "output_type": "stream",
     "text": [
      "[1994, 1995, 1996, 1997, 1998, 1999, 2000, 2001, 2002, 2003]\n",
      "[2004, 2005, 2006, 2007, 2008, 2009, 2010, 2011, 2012, 2013, 2014]\n"
     ]
    }
   ],
   "source": [
    "#combine the two datasets together note that some years overlap \n",
    "#need to eliminate these years\n",
    "\n",
    "#read in new dataset which has similar columns as the CDC dataset\n",
    "cdc_list = read_csv(\"US_births_1994-2003_CDC_NCHS.csv\")\n",
    "ssa_list = read_csv(\"US_births_2000-2014_SSA.csv\")\n",
    "years_cdc = []\n",
    "years_ssa = []\n",
    "for c in cdc_list:\n",
    "    if c[0] not in years_cdc:\n",
    "        years_cdc.append(c[0])\n",
    "for s in ssa_list:\n",
    "    if s[0] not in years_cdc:\n",
    "        if s[0] not in years_ssa: \n",
    "            years_ssa.append(s[0])\n",
    "print(years_cdc)\n",
    "print(years_ssa)\n",
    "        "
   ]
  },
  {
   "cell_type": "code",
   "execution_count": 21,
   "metadata": {
    "collapsed": false
   },
   "outputs": [
    {
     "name": "stdout",
     "output_type": "stream",
     "text": [
      "[[1994, 1, 2, 7, 7772], [1994, 1, 3, 1, 10142], [1994, 1, 4, 2, 11248], [1994, 1, 5, 3, 11053], [1994, 1, 6, 4, 11406], [1994, 1, 7, 5, 11251], [1994, 1, 8, 6, 8653], [1994, 1, 9, 7, 7910], [1994, 1, 10, 1, 10498]]\n"
     ]
    }
   ],
   "source": [
    "#now that we have the dates of non-overlap re-save the years and merge\n",
    "#them together\n",
    "\n",
    "def newlist(textlist1, yearlist1, textlist2, yearlist2):\n",
    "    newtextlist = []\n",
    "    for t1 in textlist1:\n",
    "        if t1[0] in yearlist1:\n",
    "            newtextlist.append(t1)\n",
    "    for t2 in textlist2:\n",
    "        if t2[0] in yearlist2:\n",
    "            newtextlist.append(t2)\n",
    "    return(newtextlist)\n",
    "\n",
    "full_list_new = newlist(cdc_list, years_cdc, ssa_list, years_ssa)\n",
    "print(full_list_new[1:10])\n"
   ]
  },
  {
   "cell_type": "code",
   "execution_count": 27,
   "metadata": {
    "collapsed": false
   },
   "outputs": [
    {
     "name": "stdout",
     "output_type": "stream",
     "text": [
      "{1994: 3952767, 1995: 3899589, 1996: 3891494, 1997: 3880894, 1998: 3941553, 1999: 3959417, 2000: 4058814, 2001: 4025933, 2002: 4021726, 2003: 4089950, 2004: 4186863, 2005: 4211941, 2006: 4335154, 2007: 4380784, 2008: 4310737, 2009: 4190991, 2010: 4055975, 2011: 4006908, 2012: 4000868, 2013: 3973337, 2014: 4010532}\n",
      "{1: 10677.96, 2: 10939.75, 3: 10940.0, 4: 10836.26, 5: 10983.94, 6: 11266.78, 7: 11521.96, 8: 11668.08, 9: 11763.97, 10: 11158.35, 11: 10880.73, 12: 10942.01}\n",
      "{6: 8592.76, 7: 7610.33, 1: 11562.58, 2: 12787.73, 3: 12568.71, 4: 12503.46, 5: 12304.2}\n"
     ]
    }
   ],
   "source": [
    "# We can perform some of the earlier analysis on this data.  However, lets get average for some \n",
    "#variables instead rather than totals.\n",
    "\n",
    "def calc_average(text_list, column):\n",
    "    counts_column = {}\n",
    "    num_value = {}\n",
    "    for t in text_list:\n",
    "        col = t[column]\n",
    "        births = t[4]\n",
    "        if col in counts_column:\n",
    "            counts_column[col] = counts_column[col] + births\n",
    "            num_value[col]+=1\n",
    "        else:\n",
    "            counts_column[col] = births\n",
    "            num_value[col]=1\n",
    "    for key,val in counts_column.items():\n",
    "        counts_column[key] = round(val/num_value[key],2)\n",
    "    return(counts_column)\n",
    "\n",
    "tot_all_year_births = calc_counts(full_list_new,0)\n",
    "print(tot_all_year_births)\n",
    "\n",
    "avg_all_month_births = calc_average(full_list_new,1)\n",
    "print(avg_all_month_births)\n",
    "\n",
    "avg_all_dow_births = calc_average(full_list_new,3)\n",
    "print(avg_all_dow_births)"
   ]
  },
  {
   "cell_type": "code",
   "execution_count": 33,
   "metadata": {
    "collapsed": false
   },
   "outputs": [
    {
     "data": {
      "image/png": "[encoded data removed]",
      "text/plain": [
       "<matplotlib.figure.Figure at 0x1698f27e780>"
      ]
     },
     "metadata": {},
     "output_type": "display_data"
    }
   ],
   "source": [
    "plt.bar(range(len(tot_all_year_births)), tot_all_year_births.values(), align='center')\n",
    "plt.xticks(range(len(tot_all_year_births)), tot_all_year_births.keys(), rotation=45)\n",
    "plt.ylim((3500000,4500000))\n",
    "plt.ylabel(\"Total Births\")\n",
    "plt.title(\"Total Births by Year (1994-2014)\")\n",
    "plt.show()"
   ]
  },
  {
   "cell_type": "code",
   "execution_count": 36,
   "metadata": {
    "collapsed": false
   },
   "outputs": [
    {
     "name": "stdout",
     "output_type": "stream",
     "text": [
      "Average Births By Day of Week: [(1, 11562.58), (2, 12787.73), (3, 12568.71), (4, 12503.46), (5, 12304.2), (6, 8592.76), (7, 7610.33)]\n"
     ]
    },
    {
     "data": {
      "image/png": "[encoded data removed]",
      "text/plain": [
       "<matplotlib.figure.Figure at 0x1698e20ea20>"
      ]
     },
     "metadata": {},
     "output_type": "display_data"
    }
   ],
   "source": [
    "import operator\n",
    "\n",
    "sorted_day_of_week_avg_births = sorted(avg_all_dow_births.items(), key=operator.itemgetter(0))\n",
    "print(\"Average Births By Day of Week: {}\".format(sorted_day_of_week_avg_births))\n",
    "\n",
    "day_names = [\"Monday\", \"Tuesday\", \"Wednesday\", \"Thursday\", \"Friday\", \"Saturday\", \"Sunday\"]\n",
    "births = []\n",
    "for i in sorted_day_of_week_avg_births:\n",
    "    births.append(i[1])\n",
    "\n",
    "y_pos = np.arange(len(births))\n",
    "plt.bar(y_pos, births, color=\"green\")\n",
    "plt.xticks(y_pos, day_names, rotation=45)\n",
    "plt.ylabel(\"Average Births Per Day\")\n",
    "plt.title(\"Average Births By Day of Week (1994-2014)\")\n",
    "plt.ylim((4000,14000))\n",
    "plt.show()"
   ]
  },
  {
   "cell_type": "code",
   "execution_count": null,
   "metadata": {
    "collapsed": true
   },
   "outputs": [],
   "source": []
  }
 ],
 "metadata": {
  "anaconda-cloud": {},
  "kernelspec": {
   "display_name": "Python 3",
   "language": "python",
   "name": "python3"
  },
  "language_info": {
   "codemirror_mode": {
    "name": "ipython",
    "version": 3
   },
   "file_extension": ".py",
   "mimetype": "text/x-python",
   "name": "python",
   "nbconvert_exporter": "python",
   "pygments_lexer": "ipython3",
   "version": "3.6.0"
  }
 },
 "nbformat": 4,
 "nbformat_minor": 1
}
